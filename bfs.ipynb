{
  "nbformat": 4,
  "nbformat_minor": 0,
  "metadata": {
    "colab": {
      "provenance": [],
      "include_colab_link": true
    },
    "kernelspec": {
      "name": "python3",
      "display_name": "Python 3"
    },
    "language_info": {
      "name": "python"
    }
  },
  "cells": [
    {
      "cell_type": "markdown",
      "metadata": {
        "id": "view-in-github",
        "colab_type": "text"
      },
      "source": [
        "<a href=\"https://colab.research.google.com/github/Rathourdivyanshi6398/Artificial-Intelligence/blob/main/bfs.ipynb\" target=\"_parent\"><img src=\"https://colab.research.google.com/assets/colab-badge.svg\" alt=\"Open In Colab\"/></a>"
      ]
    },
    {
      "cell_type": "code",
      "execution_count": null,
      "metadata": {
        "colab": {
          "base_uri": "https://localhost:8080/"
        },
        "id": "vPc7M-eRY5J8",
        "outputId": "0b3b4edc-6ab5-4fa7-95c2-f2916993c18d"
      },
      "outputs": [
        {
          "output_type": "execute_result",
          "data": {
            "text/plain": [
              "({'A': 0, 'B': 1, 'C': 1, 'D': 2, 'E': 2, 'F': 2},\n",
              " {'A': None, 'B': 'A', 'C': 'A', 'D': 'B', 'E': 'B', 'F': 'C'})"
            ]
          },
          "metadata": {},
          "execution_count": 1
        }
      ],
      "source": [
        "def BFS(graph, source):\n",
        "    colour = {i: \"white\" for i in graph}\n",
        "    distance = {i: float(\"inf\") for i in graph}\n",
        "    parent = {i: None for i in graph}\n",
        "\n",
        "    colour[source] = \"grey\"\n",
        "    distance[source] = 0\n",
        "    queue = [source]\n",
        "\n",
        "    while queue:\n",
        "        a = queue.pop(0)\n",
        "        for u in graph[a]:\n",
        "            if colour[u] == \"white\":\n",
        "                colour[u] = \"grey\"\n",
        "                distance[u] = distance[a] + 1\n",
        "                parent[u] = a\n",
        "                queue.append(u)\n",
        "        colour[a] = \"black\"\n",
        "\n",
        "    return distance, parent\n",
        "\n",
        "\n",
        "graph = {\n",
        "    'A': ['B', 'C'],\n",
        "    'B': ['D', 'E'],\n",
        "    'C': ['F'],\n",
        "    'D': [],\n",
        "    'E': ['F'],\n",
        "    'F': []\n",
        "}\n",
        "\n",
        "\n",
        "BFS(graph, \"A\")\n"
      ]
    },
    {
      "cell_type": "code",
      "source": [
        "# Breath first Search using explored set\n",
        "\n",
        "\n",
        "def Breath_first_search(graph,sorce,destination):\n",
        "    explored_set=set()\n",
        "    queue=[]\n",
        "    queue.append(sorce)\n",
        "    parent={sorce:None}\n",
        "    while queue:\n",
        "        r=queue.pop(0)\n",
        "        if r not in explored_set:\n",
        "            explored_set.add(r)\n",
        "            if r ==destination:\n",
        "                path = []\n",
        "                while r is not None:\n",
        "                    path.append(r)\n",
        "                    r = parent[r]\n",
        "                return path[::-1]\n",
        "            else:\n",
        "                for i in graph[r]:\n",
        "                    if i not in explored_set and i not in queue:\n",
        "                        queue.append(i)\n",
        "                        parent[i]=r\n",
        "    return None\n",
        "graph = {\n",
        "    'S': ['A', 'B'],\n",
        "    'A': ['C'],\n",
        "    'B': ['D'],\n",
        "    'C': ['E'],\n",
        "    'D': ['E'],\n",
        "    'E': []\n",
        "}\n",
        "\n",
        "\n",
        "\n",
        "sorce=\"S\"\n",
        "destination=\"E\"\n",
        "Breath_first_search(graph,sorce,destination)\n",
        "\n"
      ],
      "metadata": {
        "colab": {
          "base_uri": "https://localhost:8080/"
        },
        "id": "87YBSxCyZYJH",
        "outputId": "792359e7-5200-4df5-ed7e-b6028b4d39d4"
      },
      "execution_count": null,
      "outputs": [
        {
          "output_type": "execute_result",
          "data": {
            "text/plain": [
              "['S', 'A', 'C', 'E']"
            ]
          },
          "metadata": {},
          "execution_count": 2
        }
      ]
    },
    {
      "cell_type": "code",
      "source": [
        "#BFS USING MAZE\n",
        "def bfs_maze(maze,source,destination):\n",
        "    rows=len(maze)\n",
        "    colomn=len(maze[0])\n",
        "    queue=[source]\n",
        "    parent={source:None}\n",
        "    explored_set=set()\n",
        "    # directions\n",
        "    directions=[[-1,0],[1,0],[0,1],[0,-1]]\n",
        "    while queue:\n",
        "        r,c=queue.pop(0)\n",
        "        if (r,c) not in explored_set:\n",
        "            explored_set.add((r,c))\n",
        "            if (r,c)==destination:\n",
        "                path = []\n",
        "                while (r, c) is not None:\n",
        "                    path.append((r, c))\n",
        "                    r_c_parent = parent[(r, c)]\n",
        "                    if r_c_parent is None:\n",
        "                        break\n",
        "                    r, c = r_c_parent\n",
        "                return path[::-1]\n",
        "            else:\n",
        "                for dr,dc in directions:\n",
        "                    nr=r+dr\n",
        "                    nc=c+dc\n",
        "                    if 0<=nr<rows and 0<=nc<colomn and maze[nr][nc]==0:\n",
        "                        if (nr,nc) not in explored_set and (nr,nc) not in queue:\n",
        "                            queue.append((nr,nc))\n",
        "                            parent[(nr,nc)]=(r,c)\n",
        "    return None\n",
        "def print_maze_with_path(maze, path):\n",
        "    maze_copy = [row[:] for row in maze]  # copy maze\n",
        "    for r, c in path:\n",
        "        maze_copy[r][c] = \"*\"  # mark path\n",
        "    print(\"\\nMaze with path:\")\n",
        "    for row in maze_copy:\n",
        "        print(\" \".join(str(cell) for cell in row))\n",
        "\n",
        "\n",
        "maze = [\n",
        "    [0, 0, 0, 1, 0],\n",
        "    [1, 1, 0, 1, 0],\n",
        "    [0, 0, 0, 0, 0],\n",
        "    [0, 1, 1, 1, 0],\n",
        "    [0, 0, 0, 0, 0]\n",
        "]\n",
        "\n",
        "\n",
        "source = (0, 0)        # Start\n",
        "destination = (4, 2)   # End\n",
        "\n",
        "path = bfs_maze(maze, source, destination)\n",
        "\n",
        "if path:\n",
        "    print(\"DFS Path:\", path)\n",
        "    print_maze_with_path(maze, path)\n",
        "else:\n",
        "    print(\"No path found!\")\n",
        "\n",
        "\n"
      ],
      "metadata": {
        "colab": {
          "base_uri": "https://localhost:8080/"
        },
        "id": "PC8tMagSZnAP",
        "outputId": "4aa79174-67e4-4def-8b0c-7f3fb65ea900"
      },
      "execution_count": null,
      "outputs": [
        {
          "output_type": "stream",
          "name": "stdout",
          "text": [
            "DFS Path: [(0, 0), (0, 1), (0, 2), (1, 2), (2, 2), (2, 3), (2, 4), (3, 4), (4, 4), (4, 3), (4, 2)]\n",
            "\n",
            "Maze with path:\n",
            "* * * 1 0\n",
            "1 1 * 1 0\n",
            "0 0 * * *\n",
            "0 1 1 1 *\n",
            "0 0 * * *\n"
          ]
        }
      ]
    }
  ]
}