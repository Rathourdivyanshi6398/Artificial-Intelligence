{
  "nbformat": 4,
  "nbformat_minor": 0,
  "metadata": {
    "colab": {
      "provenance": []
    },
    "kernelspec": {
      "name": "python3",
      "display_name": "Python 3"
    },
    "language_info": {
      "name": "python"
    }
  },
  "cells": [
    {
      "cell_type": "code",
      "execution_count": 1,
      "metadata": {
        "colab": {
          "base_uri": "https://localhost:8080/"
        },
        "id": "C4C6dfcSawAq",
        "outputId": "0b463227-964f-4758-b6d5-02fbe7a11087"
      },
      "outputs": [
        {
          "output_type": "stream",
          "name": "stdout",
          "text": [
            "BFS Path: ['A', 'C', 'E', 'F']\n",
            "DFS Path: ['A', 'B', 'D', 'F']\n"
          ]
        }
      ],
      "source": [
        "def comparison_code(graph, source, destination):\n",
        "    def Breath_first_search(graph, sorce, destination):\n",
        "        explored_set = set()\n",
        "        queue = []\n",
        "        queue.append(sorce)\n",
        "        parent = {sorce: None}\n",
        "        while queue:\n",
        "            r = queue.pop(0)\n",
        "            if r not in explored_set:\n",
        "                explored_set.add(r)\n",
        "                if r == destination:\n",
        "                    path = []\n",
        "                    while r is not None:\n",
        "                        path.append(r)\n",
        "                        r = parent[r]\n",
        "                    return path[::-1]\n",
        "                else:\n",
        "                    for i in graph[r]:\n",
        "                        if i not in explored_set and i not in queue:\n",
        "                            queue.append(i)\n",
        "                            parent[i] = r\n",
        "        return None\n",
        "\n",
        "    def Depth_first_search(graph, sorce, destination):\n",
        "        explored_set = set()\n",
        "        stack = []\n",
        "        stack.append(sorce)\n",
        "        parent = {sorce: None}\n",
        "        while stack:\n",
        "            r = stack.pop(-1)\n",
        "            if r not in explored_set:\n",
        "                explored_set.add(r)\n",
        "                if r == destination:\n",
        "                    path = []\n",
        "                    while r is not None:\n",
        "                        path.append(r)\n",
        "                        r = parent[r]\n",
        "                    return path[::-1]\n",
        "                else:\n",
        "                    for i in graph[r]:\n",
        "                        if i not in explored_set and i not in stack:\n",
        "                            stack.append(i)\n",
        "                            parent[i] = r\n",
        "        return None\n",
        "\n",
        "    bfs_path = Breath_first_search(graph, source, destination)\n",
        "    dfs_path = Depth_first_search(graph, source, destination)\n",
        "\n",
        "    return bfs_path, dfs_path\n",
        "\n",
        "\n",
        "graph = {\n",
        "    'A': ['C', 'B'],\n",
        "    'B': ['D'],\n",
        "    'C': ['E'],\n",
        "    'D': ['F'],\n",
        "    'E': ['F'],\n",
        "    'F': []\n",
        "}\n",
        "\n",
        "source = \"A\"\n",
        "destination = \"F\"\n",
        "bfs_path, dfs_path = comparison_code(graph, source, destination)\n",
        "\n",
        "print(\"BFS Path:\", bfs_path)\n",
        "print(\"DFS Path:\", dfs_path)\n"
      ]
    }
  ]
}