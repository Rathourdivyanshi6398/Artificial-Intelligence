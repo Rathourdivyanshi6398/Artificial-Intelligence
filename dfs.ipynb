{
  "nbformat": 4,
  "nbformat_minor": 0,
  "metadata": {
    "colab": {
      "provenance": []
    },
    "kernelspec": {
      "name": "python3",
      "display_name": "Python 3"
    },
    "language_info": {
      "name": "python"
    }
  },
  "cells": [
    {
      "cell_type": "code",
      "execution_count": 1,
      "metadata": {
        "colab": {
          "base_uri": "https://localhost:8080/"
        },
        "id": "rIRtLk2YZ8q2",
        "outputId": "b3297479-8037-4302-ee28-acc67a2d2956"
      },
      "outputs": [
        {
          "output_type": "stream",
          "name": "stdout",
          "text": [
            "final-color {'u': 'black', 'v': 'black', 'w': 'black', 'x': 'black', 'y': 'black', 'z': 'black'}\n",
            "time {'u': 0, 'v': 2, 'w': 0, 'x': 1, 'y': 3, 'z': 1}\n",
            "parent {'u': None, 'v': 'x', 'w': None, 'x': 'u', 'y': 'v', 'z': 'w'}\n"
          ]
        }
      ],
      "source": [
        "# DFS\n",
        "def dfs(graph):\n",
        "\n",
        "    lst=[]\n",
        "    for i in graph.keys():\n",
        "        lst.append(i)\n",
        "    # print(lst)\n",
        "    color={i:\"white\" for i in graph}\n",
        "    # print(\"Initiall color of nodes :\",color)\n",
        "    time={i: 0 for i in graph}\n",
        "    # print(\"Initial time :\",time)\n",
        "    parent={ i:None for i in graph}\n",
        "    # print(\"Initial parent of nodes:\",parent)\n",
        "    def dfs_fun(u):\n",
        "        color[u]=\"grey\"\n",
        "        for v in graph[u]:\n",
        "            if color[v]==\"white\":\n",
        "                time[v]=time[u]+1\n",
        "                parent[v]=u\n",
        "                dfs_fun(v)\n",
        "        color[u]=\"black\"\n",
        "    stack=[]\n",
        "    for u in lst :\n",
        "        if color[u]==\"white\":\n",
        "            stack.append(u)\n",
        "            dfs_fun(u)\n",
        "    print(\"final-color\",color)\n",
        "    print(\"time\",time)\n",
        "    print(\"parent\",parent)\n",
        "graph={\"u\":[\"x\",\"v\"],\"v\":[\"y\"],\"w\":[\"y\",\"z\"],\"x\":[\"v\"],\"y\":[\"x\"],\"z\":[\"z\"]}\n",
        "dfs(graph)\n"
      ]
    },
    {
      "cell_type": "code",
      "source": [
        "# Depth first Search using explored set\n",
        "\n",
        "\n",
        "def Depth_first_search(graph,sorce,destination):\n",
        "    explored_set=set()\n",
        "    stack=[]\n",
        "    stack.append(sorce)\n",
        "    parent={sorce:None}\n",
        "    while stack:\n",
        "        r=stack.pop(-1)\n",
        "        if r not in explored_set:\n",
        "            explored_set.add(r)\n",
        "            if r ==destination:\n",
        "                path = []\n",
        "                while r is not None:\n",
        "                    path.append(r)\n",
        "                    r = parent[r]\n",
        "                return path[::-1]\n",
        "            else:\n",
        "                for i in graph[r]:\n",
        "                    if i not in explored_set and i not in stack:\n",
        "                        stack.append(i)\n",
        "                        parent[i]=r\n",
        "    return None\n",
        "graph = {\n",
        "    'S': ['A', 'B'],\n",
        "    'A': ['C'],\n",
        "    'B': ['D'],\n",
        "    'C': ['E'],\n",
        "    'D': ['E'],\n",
        "    'E': []\n",
        "}\n",
        "\n",
        "\n",
        "\n",
        "sorce=\"S\"\n",
        "destination=\"E\"\n",
        "Depth_first_search(graph,sorce,destination)\n",
        "\n",
        ""
      ],
      "metadata": {
        "colab": {
          "base_uri": "https://localhost:8080/"
        },
        "id": "TyQf3O9SaYzp",
        "outputId": "9398d8fc-3af8-4ce2-c009-a41dc3449466"
      },
      "execution_count": 2,
      "outputs": [
        {
          "output_type": "execute_result",
          "data": {
            "text/plain": [
              "['S', 'B', 'D', 'E']"
            ]
          },
          "metadata": {},
          "execution_count": 2
        }
      ]
    },
    {
      "cell_type": "code",
      "source": [
        "# DFS USING MAZE\n",
        "def dfs_maze(maze,source,destination):\n",
        "    rows=len(maze)\n",
        "    colomn=len(maze[0])\n",
        "    stack=[source]\n",
        "    parent={source:None}\n",
        "    explored_set=set()\n",
        "    # directions\n",
        "    directions=[[-1,0],[1,0],[0,1],[0,-1]]\n",
        "    while stack:\n",
        "        r,c=stack.pop()\n",
        "        if (r,c) not in explored_set:\n",
        "            explored_set.add((r,c))\n",
        "            if (r,c)==destination:\n",
        "                path = []\n",
        "                while (r, c) is not None:              # backtracking the parent\n",
        "                    path.append((r, c))\n",
        "                    r_c_parent = parent[(r, c)]\n",
        "                    if r_c_parent is None:\n",
        "                        break\n",
        "                    r, c = r_c_parent\n",
        "                return path[::-1]\n",
        "            else:\n",
        "                for dr,dc in directions:          # change in row and colomn\n",
        "                    nr=r+dr                       # neighbour of row\n",
        "                    nc=c+dc                        # neighbour of colomn\n",
        "                    if 0<=nr<rows and 0<=nc<colomn and maze[nr][nc]==0:   # neighbour should not go beyond the maze\n",
        "                        if (nr,nc) not in explored_set and (nr,nc) not in stack:\n",
        "                            stack.append((nr,nc))\n",
        "                            parent[(nr,nc)]=(r,c)\n",
        "    return None\n",
        "def print_maze_with_path(maze, path):\n",
        "    maze_copy = [row[:] for row in maze]  # copy maze\n",
        "    for r, c in path:\n",
        "        maze_copy[r][c] = \"*\"  # mark path\n",
        "    print(\"\\nMaze with path:\")\n",
        "    for row in maze_copy:\n",
        "        print(\" \".join(str(cell) for cell in row))\n",
        "\n",
        "\n",
        "maze = [\n",
        "    [0, 0, 0, 1, 0],\n",
        "    [1, 1, 0, 1, 0],\n",
        "    [0, 0, 0, 0, 0],\n",
        "    [0, 1, 1, 1, 0],\n",
        "    [0, 0, 0, 0, 0]\n",
        "]\n",
        "\n",
        "\n",
        "source = (0, 0)        # Start\n",
        "destination = (4, 2)   # End\n",
        "\n",
        "path = dfs_maze(maze, source, destination)\n",
        "\n",
        "if path:\n",
        "    print(\"DFS Path:\", path)\n",
        "    print_maze_with_path(maze, path)\n",
        "else:\n",
        "    print(\"No path found!\")\n",
        "\n",
        "\n"
      ],
      "metadata": {
        "colab": {
          "base_uri": "https://localhost:8080/"
        },
        "id": "_v3rHN_fag-X",
        "outputId": "366bf59e-b4c8-4307-cfff-bb0b9a286673"
      },
      "execution_count": 3,
      "outputs": [
        {
          "output_type": "stream",
          "name": "stdout",
          "text": [
            "DFS Path: [(0, 0), (0, 1), (0, 2), (1, 2), (2, 2), (2, 1), (2, 0), (3, 0), (4, 0), (4, 1), (4, 2)]\n",
            "\n",
            "Maze with path:\n",
            "* * * 1 0\n",
            "1 1 * 1 0\n",
            "* * * 0 0\n",
            "* 1 1 1 0\n",
            "* * * 0 0\n"
          ]
        }
      ]
    }
  ]
}